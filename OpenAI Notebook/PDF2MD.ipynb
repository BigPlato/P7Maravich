from pdfminer.high_level import extract_text

input_pdf = '/Users/lucianowang/Documents/Working/2023YEAR/202309_LLM/202311-新产业生物demo/1、《省管价格公立医疗机构综合改革医疗服务价格调整方案》【2019】70号.pdf'
output_md = '/Users/lucianowang/Documents/Working/2023YEAR/202309_LLM/202311-新产业生物demo/1、《省管价格公立医疗机构综合改革医疗服务价格调整方案》【2019】70号.md'

def pdf_to_md(input_pdf, output_md):
    text = extract_text(input_pdf)
    
    with open(output_md, 'w') as f:
        f.write(text)

# 使用示例
pdf_to_md(input_pdf, output_md)
