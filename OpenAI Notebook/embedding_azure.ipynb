{
 "cells": [
  {
   "cell_type": "code",
   "execution_count": 20,
   "id": "40577e9d",
   "metadata": {},
   "outputs": [],
   "source": [
    "# -*- coding: utf-8 -*-\n",
    "#from flask_cors import CORS\n",
    "#from flask import Flask, request, Response\n",
    "import pandas as pd\n",
    "from langchain.document_loaders import TextLoader\n",
    "from langchain.text_splitter import CharacterTextSplitter,MarkdownTextSplitter\n",
    "import langchain.text_splitter\n",
    "from langchain.vectorstores import Chroma\n",
    "from langchain.embeddings.huggingface import HuggingFaceEmbeddings\n",
    "from langchain.embeddings import HuggingFaceBgeEmbeddings\n",
    "# import IPython\n",
    "import sentence_transformers\n",
    "import json\n",
    "from venus_api_base.venus_openapi import PyVenusOpenApi\n",
    "import requests\n",
    "from langchain.vectorstores import Chroma\n",
    "import pandas as pd\n",
    "import os\n",
    "from langchain.chat_models import AzureChatOpenAI\n",
    "from langchain.schema import HumanMessage\n",
    "\n",
    "os.environ[\"OPENAI_API_TYPE\"] = \"azure\"\n",
    "os.environ[\"OPENAI_API_VERSION\"] = \"2023-05-15\"\n",
    "#os.environ[\"OPENAI_API_VERSION\"] = \"2023-03-15-preview\"\n",
    "os.environ[\"OPENAI_API_BASE\"] = \"https://omdbeta-ae-01.openai.azure.com\"\n",
    "os.environ[\"OPENAI_API_KEY\"] = \"***\"\n",
    "\n",
    "\n",
    "\n",
    "# app = Flask(__name__)\n",
    "import urllib.request\n",
    "\n",
    "# proxy_handler = urllib.request.ProxyHandler({'https': 'https://huggingface.co:443'})\n",
    "# opener = urllib.request.build_opener(proxy_handler)\n",
    "# urllib.request.install_opener(opener)\n",
    "\n",
    "embedding_file = '***'\n",
    "\n",
    "def create_app():\n",
    "    app = Flask(__name__)\n",
    "    CORS(app, supports_credentials=True)\n",
    "    app.config.update(RESTFUL_JSON=dict(ensure_ascii=False))\n",
    "    print(\"app创建ok\")\n",
    "    # db = data_init()\n",
    "    # print(\"向量数据库ok\")\n",
    "    return app \n",
    "\n",
    " \n",
    "\n",
    "def data_init(db_init):\n",
    "    # 加载文件夹\n",
    "    embedding_file = '***'\n",
    "    #db = Chroma(persist_directory=embedding_file, embedding_function=embeddings)\n",
    "    qa_file = '***'\n",
    "\n",
    "    ## 文档切分\n",
    "    md_loader = TextLoader(qa_file, encoding='utf8')\n",
    "    md_doc = md_loader.load()\n",
    "\n",
    "    markdown_splitter = CharacterTextSplitter(separator='##',  chunk_size=380, chunk_overlap=0)\n",
    "    md_docs = markdown_splitter.split_documents(md_doc)\n",
    "    # print(len(md_docs))\n",
    "\n",
    "    model_name = \"BAAI/bge-base-zh-v1.5\"  \n",
    "    encode_kwargs = {'normalize_embeddings': True} # set True to compute cosine similarity\n",
    "    embeddings = HuggingFaceBgeEmbeddings(\n",
    "        model_name=model_name,\n",
    "        encode_kwargs=encode_kwargs\n",
    "    )\n",
    "\n",
    "    embeddings.client = sentence_transformers.SentenceTransformer(embeddings.model_name)  \n",
    "    if db_init == 1:\n",
    "        print(\"开始初始化本地向量数据库\") \n",
    "        db = Chroma.from_documents(md_docs, embeddings, persist_directory=embedding_file)\n",
    "        print(\"首次初始化本地向量数据库-成功\") \n",
    "    else :\n",
    "        db = Chroma(persist_directory=embedding_file, embedding_function=embeddings)\n",
    "\n",
    "        print(\"直接取持久化的向量数据库-成功\")    \n",
    "    return db\n",
    "\n",
    "\n",
    "\n",
    "def RetriveQA(db, question, threshold):\n",
    "\n",
    "    print(\"开始计算相似度\")\n",
    "    f_threshold = 0.35 + 0.0\n",
    "    print(f\"f_threshold:{f_threshold}\")\n",
    "    retriever = db.as_retriever(search_type=\"similarity_score_threshold\", search_kwargs={\"score_threshold\": f_threshold, \"k\": 3})\n",
    "    similarDocs = retriever.get_relevant_documents(question)\n",
    "    # print(f\"similarDocs:{similarDocs}\")\n",
    "\n",
    "    docs_input = ''\n",
    "    if len(similarDocs) > 0:\n",
    "        docs_input = '原文参考段落：\\n'\n",
    "        for i in range(len(similarDocs)):\n",
    "            docs_input = docs_input +    similarDocs[i].page_content + '\\n'\n",
    "            print(\"***********召回文本：\",docs_input)\n",
    "    else:\n",
    "        print(\"针对问题：【\",question,\"】无召回文本!!!\")\n",
    "    return docs_input\n",
    "\n",
    "\n",
    "def zongjie(answer, question ):\n",
    "    # 生产\n",
    "    print(\"调用Azure模型的api进行文档总结\")\n",
    "    prompt = f\"你是一个问答小助手，请基于以下文档回答问题。文档：{answer} \\\n",
    "        请根据上述给定的文档，仔细思考，回答问题：{question} 要求回答时只能使用给定文档中直接相关的文本内容。忽略无关文本。回答要准确。\\\n",
    "        如果不能从文档中找出答案则回答：“抱歉，信息不足无法直接回答，请完善问题或参考以下文档。”，\"\n",
    "    \n",
    "    # 对话类langchain API调用\n",
    "\n",
    "    llm = AzureChatOpenAI(deployment_name=\"gpt-4\")\n",
    "\n",
    "    msg = HumanMessage(content=prompt)\n",
    "    result = llm(messages=[msg])\n",
    "    print(llm(messages=[msg]))\n",
    " \n",
    "    return result"
   ]
  },
  {
   "cell_type": "code",
   "execution_count": 14,
   "id": "e7e5623e",
   "metadata": {},
   "outputs": [
    {
     "name": "stderr",
     "output_type": "stream",
     "text": [
      "Using embedded DuckDB with persistence: data will be stored in: /Users/lucianowang/Documents/Working/2023YEAR/202309_LLM/202311_乐问医学/embedding2\n"
     ]
    },
    {
     "name": "stdout",
     "output_type": "stream",
     "text": [
      "开始初始化本地向量数据库\n",
      "首次初始化本地向量数据库-成功\n"
     ]
    }
   ],
   "source": [
    "db = data_init(1)"
   ]
  },
  {
   "cell_type": "code",
   "execution_count": 16,
   "id": "62676df2",
   "metadata": {},
   "outputs": [
    {
     "name": "stderr",
     "output_type": "stream",
     "text": [
      "Using embedded DuckDB with persistence: data will be stored in: /Users/lucianowang/Documents/Working/2023YEAR/202309_LLM/202311_乐问医学/embedding\n"
     ]
    },
    {
     "name": "stdout",
     "output_type": "stream",
     "text": [
      "开始计算相似度\n",
      "f_threshold:0.35\n",
      "***********召回文本： 原文参考段落：\n",
      "（ 1 ）适合机会性筛查。##\n",
      "（2 ）每 1~2 年进行 1 次乳腺 X 线摄影检查（极低证据级别 ，一般推荐）。##\n",
      "第五节    乳腺癌高危人群筛查意见##\n",
      "建议对乳腺癌高危人群提前进行筛查（小于 40 岁）， 筛查频度推荐每年 1 次 ，筛 查手段除了乳腺 X 线摄影检查之外 ，还可以采用 B 超 、MRI 等影像学手段（中证据级 别 ，一般推荐）。 一项在中国开展的随机对照研究比较了在高危人群中应用超声 、乳 腺 X 线摄影 ， 以及超声联合乳腺 X 线摄影作为 30～65 岁中国女性乳腺癌高危人群的 初筛手段 ，研究结果显示 ，超声作为初筛手段比乳腺 X 线摄影具有更高的灵敏度和相##\n",
      "似的特异度（中证据级别）。##\n",
      "1    罹患乳腺癌高危人群的定义##\n",
      "存在下列情况之一者被认为是罹患乳腺癌的高危人群。\n",
      "\n",
      "***********召回文本： 原文参考段落：\n",
      "（ 1 ）适合机会性筛查。##\n",
      "（2 ）每 1~2 年进行 1 次乳腺 X 线摄影检查（极低证据级别 ，一般推荐）。##\n",
      "第五节    乳腺癌高危人群筛查意见##\n",
      "建议对乳腺癌高危人群提前进行筛查（小于 40 岁）， 筛查频度推荐每年 1 次 ，筛 查手段除了乳腺 X 线摄影检查之外 ，还可以采用 B 超 、MRI 等影像学手段（中证据级 别 ，一般推荐）。 一项在中国开展的随机对照研究比较了在高危人群中应用超声 、乳 腺 X 线摄影 ， 以及超声联合乳腺 X 线摄影作为 30～65 岁中国女性乳腺癌高危人群的 初筛手段 ，研究结果显示 ，超声作为初筛手段比乳腺 X 线摄影具有更高的灵敏度和相##\n",
      "似的特异度（中证据级别）。##\n",
      "1    罹患乳腺癌高危人群的定义##\n",
      "存在下列情况之一者被认为是罹患乳腺癌的高危人群。\n",
      "（4 ）根据评估对象的年龄 、种族 、初潮年龄 、初产年龄 、个人乳腺疾病史 、乳 腺癌家族史和乳腺活检次数等多个风险因子 ，利用 Gail 模型进行罹患乳腺癌风险评##\n",
      "估 。如果受试者 5 年内发病风险≥1.67% ，则被认为是高风险个体。##\n",
      "注：一级亲属指母亲 、女儿和姐妹 ；二级亲属指姑 、姨 、祖母和外祖母。##\n",
      "2    乳腺癌高危人群的筛查推荐策略与管理（低证据级别， 一般推荐）##\n",
      "（ 1 ）推荐比起始年龄更早（<40 岁） 开展乳腺筛查。##\n",
      "（2 ）每年 1 次进行乳腺 X 线摄影检查。##\n",
      "（3 ）每 6~ 12 个月进行 1 次乳腺超声检查。##\n",
      "（4 ）每 6~ 12 个月进行 1 次乳腺体检。##\n",
      "（5 ）必要时联合乳腺增强 MRI 检查。##\n",
      "1  乳腺 X 线摄影检查技术规范##\n",
      "1.1  投照前准备工作\n",
      "\n",
      "***********召回文本： 原文参考段落：\n",
      "（ 1 ）适合机会性筛查。##\n",
      "（2 ）每 1~2 年进行 1 次乳腺 X 线摄影检查（极低证据级别 ，一般推荐）。##\n",
      "第五节    乳腺癌高危人群筛查意见##\n",
      "建议对乳腺癌高危人群提前进行筛查（小于 40 岁）， 筛查频度推荐每年 1 次 ，筛 查手段除了乳腺 X 线摄影检查之外 ，还可以采用 B 超 、MRI 等影像学手段（中证据级 别 ，一般推荐）。 一项在中国开展的随机对照研究比较了在高危人群中应用超声 、乳 腺 X 线摄影 ， 以及超声联合乳腺 X 线摄影作为 30～65 岁中国女性乳腺癌高危人群的 初筛手段 ，研究结果显示 ，超声作为初筛手段比乳腺 X 线摄影具有更高的灵敏度和相##\n",
      "似的特异度（中证据级别）。##\n",
      "1    罹患乳腺癌高危人群的定义##\n",
      "存在下列情况之一者被认为是罹患乳腺癌的高危人群。\n",
      "（4 ）根据评估对象的年龄 、种族 、初潮年龄 、初产年龄 、个人乳腺疾病史 、乳 腺癌家族史和乳腺活检次数等多个风险因子 ，利用 Gail 模型进行罹患乳腺癌风险评##\n",
      "估 。如果受试者 5 年内发病风险≥1.67% ，则被认为是高风险个体。##\n",
      "注：一级亲属指母亲 、女儿和姐妹 ；二级亲属指姑 、姨 、祖母和外祖母。##\n",
      "2    乳腺癌高危人群的筛查推荐策略与管理（低证据级别， 一般推荐）##\n",
      "（ 1 ）推荐比起始年龄更早（<40 岁） 开展乳腺筛查。##\n",
      "（2 ）每年 1 次进行乳腺 X 线摄影检查。##\n",
      "（3 ）每 6~ 12 个月进行 1 次乳腺超声检查。##\n",
      "（4 ）每 6~ 12 个月进行 1 次乳腺体检。##\n",
      "（5 ）必要时联合乳腺增强 MRI 检查。##\n",
      "1  乳腺 X 线摄影检查技术规范##\n",
      "1.1  投照前准备工作\n",
      "中国几项大样本女性乳腺癌分子亚型研究结果显示 ， 中国女性乳腺癌病例中， Luminal A 型 占 40%~70% ， Luminal B 型 占 10%~20% ， 三 阴 型 乳 腺 癌 占 15%~20%，##\n",
      "HER2 阳性乳腺癌占 20%~30%。##\n",
      "第四节    乳腺癌高危因素##\n",
      "乳腺癌的病因和发病机制十分复杂 ， 是遗传因素 、生活方式和环境暴露等多  种因素及其相互作用的结果 。乳腺癌易感基因的遗传突变增加了乳腺癌的风险 ； 生殖因素 ，包括初潮年龄晚 、绝经年龄早 、胎次 、初产年龄早和母乳喂养 ， 都能  降低乳腺癌的总体发病风险 ； 而乳腺癌家族史 、乳腺增殖性良性疾病史 、乳腺致##\n",
      "密度 、辐射暴露 、饮酒 、体力活动少 、绝经前瘦 、绝经后肥胖 、最近使用绝经后\n",
      "\n"
     ]
    },
    {
     "data": {
      "text/plain": [
       "'原文参考段落：\\n（ 1 ）适合机会性筛查。##\\n（2 ）每 1~2 年进行 1 次乳腺 X 线摄影检查（极低证据级别 ，一般推荐）。##\\n第五节    乳腺癌高危人群筛查意见##\\n建议对乳腺癌高危人群提前进行筛查（小于 40 岁）， 筛查频度推荐每年 1 次 ，筛 查手段除了乳腺 X 线摄影检查之外 ，还可以采用 B 超 、MRI 等影像学手段（中证据级 别 ，一般推荐）。 一项在中国开展的随机对照研究比较了在高危人群中应用超声 、乳 腺 X 线摄影 ， 以及超声联合乳腺 X 线摄影作为 30～65 岁中国女性乳腺癌高危人群的 初筛手段 ，研究结果显示 ，超声作为初筛手段比乳腺 X 线摄影具有更高的灵敏度和相##\\n似的特异度（中证据级别）。##\\n1    罹患乳腺癌高危人群的定义##\\n存在下列情况之一者被认为是罹患乳腺癌的高危人群。\\n（4 ）根据评估对象的年龄 、种族 、初潮年龄 、初产年龄 、个人乳腺疾病史 、乳 腺癌家族史和乳腺活检次数等多个风险因子 ，利用 Gail 模型进行罹患乳腺癌风险评##\\n估 。如果受试者 5 年内发病风险≥1.67% ，则被认为是高风险个体。##\\n注：一级亲属指母亲 、女儿和姐妹 ；二级亲属指姑 、姨 、祖母和外祖母。##\\n2    乳腺癌高危人群的筛查推荐策略与管理（低证据级别， 一般推荐）##\\n（ 1 ）推荐比起始年龄更早（<40 岁） 开展乳腺筛查。##\\n（2 ）每年 1 次进行乳腺 X 线摄影检查。##\\n（3 ）每 6~ 12 个月进行 1 次乳腺超声检查。##\\n（4 ）每 6~ 12 个月进行 1 次乳腺体检。##\\n（5 ）必要时联合乳腺增强 MRI 检查。##\\n1  乳腺 X 线摄影检查技术规范##\\n1.1  投照前准备工作\\n中国几项大样本女性乳腺癌分子亚型研究结果显示 ， 中国女性乳腺癌病例中， Luminal A 型 占 40%~70% ， Luminal B 型 占 10%~20% ， 三 阴 型 乳 腺 癌 占 15%~20%，##\\nHER2 阳性乳腺癌占 20%~30%。##\\n第四节    乳腺癌高危因素##\\n乳腺癌的病因和发病机制十分复杂 ， 是遗传因素 、生活方式和环境暴露等多  种因素及其相互作用的结果 。乳腺癌易感基因的遗传突变增加了乳腺癌的风险 ； 生殖因素 ，包括初潮年龄晚 、绝经年龄早 、胎次 、初产年龄早和母乳喂养 ， 都能  降低乳腺癌的总体发病风险 ； 而乳腺癌家族史 、乳腺增殖性良性疾病史 、乳腺致##\\n密度 、辐射暴露 、饮酒 、体力活动少 、绝经前瘦 、绝经后肥胖 、最近使用绝经后\\n'"
      ]
     },
     "execution_count": 16,
     "metadata": {},
     "output_type": "execute_result"
    }
   ],
   "source": [
    "embedding_file = '***'\n",
    "model_name = \"BAAI/bge-base-zh-v1.5\"\n",
    "encode_kwargs = {'normalize_embeddings': True}\n",
    "embeddings = HuggingFaceBgeEmbeddings(\n",
    "    model_name=model_name,\n",
    "    encode_kwargs=encode_kwargs\n",
    ")\n",
    "\n",
    "question = '哪些人群是乳腺癌的高危人群'\n",
    "threshold = 0.35\n",
    "db = Chroma(persist_directory=embedding_file, embedding_function=embeddings)\n",
    "docs_input = RetriveQA(db, question, threshold)\n",
    "docs_input"
   ]
  },
  {
   "cell_type": "code",
   "execution_count": 22,
   "id": "a6562f2b",
   "metadata": {},
   "outputs": [
    {
     "name": "stdout",
     "output_type": "stream",
     "text": [
      "调用Azure模型的api进行文档总结\n",
      "content='乳腺癌的高危人群包括存在以下情况之一的个体：根据评估对象的年龄、种族、初潮年龄、初产年龄、个人乳腺疾病史、乳腺癌家族史和乳腺活检次数等多个风险因子，利用 Gail 模型进行罹患乳腺癌风险评估。如果受试者 5 年内发病风险≥1.67%，则被认为是高风险个体。'\n"
     ]
    },
    {
     "data": {
      "text/plain": [
       "AIMessage(content='乳腺癌的高危人群定义为存在以下情况之一的人群：根据评估对象的年龄、种族、初潮年龄、初产年龄、个人乳腺疾病史、乳腺癌家族史和乳腺活检次数等多个风险因子，利用 Gail 模型进行罹患乳腺癌风险评估。如果受试者 5 年内发病风险≥1.67%，则被认为是高风险个体。')"
      ]
     },
     "execution_count": 22,
     "metadata": {},
     "output_type": "execute_result"
    }
   ],
   "source": [
    "answer = docs_input\n",
    "question = '哪些人群是乳腺癌的高危人群'\n",
    "zongjie(answer, question)"
   ]
  },
  {
   "cell_type": "code",
   "execution_count": null,
   "id": "6c274d4f",
   "metadata": {},
   "outputs": [],
   "source": []
  }
 ],
 "metadata": {
  "kernelspec": {
   "display_name": "Python 3 (ipykernel)",
   "language": "python",
   "name": "python3"
  },
  "language_info": {
   "codemirror_mode": {
    "name": "ipython",
    "version": 3
   },
   "file_extension": ".py",
   "mimetype": "text/x-python",
   "name": "python",
   "nbconvert_exporter": "python",
   "pygments_lexer": "ipython3",
   "version": "3.9.7"
  }
 },
 "nbformat": 4,
 "nbformat_minor": 5
}
