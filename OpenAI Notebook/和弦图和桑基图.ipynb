{
 "cells": [
  {
   "cell_type": "markdown",
   "id": "bb8b80eb",
   "metadata": {},
   "source": [
    "## 和弦图"
   ]
  },
  {
   "cell_type": "code",
   "execution_count": null,
   "id": "2d0eabdd",
   "metadata": {},
   "outputs": [],
   "source": [
    "import os\n",
    "import sys\n",
    "import matplotlib.pyplot as plt\n",
    "import numpy as np\n",
    "from mpl_chord_diagram import chord_diagram"
   ]
  },
  {
   "cell_type": "code",
   "execution_count": null,
   "id": "ebc10b39",
   "metadata": {},
   "outputs": [],
   "source": [
    "# 绘制不同的例子\n",
    "grads = (True, False, False, False)               # 梯度\n",
    "gaps  = (0.03, 0, 0.03, 0)                        # 间隙值\n",
    "sorts = (\"size\", \"distance\", None, \"distance\")    # 排序顺序\n",
    "cclrs = (None, None, \"slategrey\", None)           # 和弦颜色\n",
    "nrota = (False, False, True, True)                # 名字旋转\n",
    "cmaps = (None, None, None, \"summer\")              # 调色板\n",
    "fclrs = \"grey\"                                    # 字体颜色\n",
    "drctd = (False, False, False, True)               # 有向图\n",
    "\n",
    "args = (grads, gaps, sorts, cclrs, nrota, cmaps, drctd)"
   ]
  },
  {
   "cell_type": "code",
   "execution_count": null,
   "id": "8b815185",
   "metadata": {},
   "outputs": [],
   "source": [
    "flux = df_chord.iloc[:,1:].values\n",
    "names = df_chord.iloc[:,1:].columns"
   ]
  },
  {
   "cell_type": "code",
   "execution_count": null,
   "id": "2b98aeae",
   "metadata": {},
   "outputs": [],
   "source": [
    "for grd, gap, srt, cc, nr, cm, d in zip(*args):\n",
    "    chord_diagram(flux, names, gap=gap, use_gradient=grd, sort=srt, directed=d,\n",
    "                  cmap=cm, chord_colors=cc, rotate_names=nr, fontcolor=fclrs)\n",
    "\n",
    "    str_grd = \"_gradient\" if grd else \"\"\n",
    "    \n",
    "    plt.rcParams['font.sans-serif']=['Songti SC'] #用来正常显示中文标签\n",
    "\n",
    "    plt.savefig(\n",
    "        \"*/example{}_sort-{}{}.png\".format(str_grd, srt,\n",
    "                                                \"_directed\" if d else \"\"),\n",
    "        dpi=600, transparent=True, bbox_inches='tight',\n",
    "        pad_inches=0.02)\n",
    "\n",
    "plt.show()"
   ]
  },
  {
   "cell_type": "markdown",
   "id": "151261f0",
   "metadata": {},
   "source": [
    "## 桑基图"
   ]
  },
  {
   "cell_type": "code",
   "execution_count": null,
   "id": "08fd8119",
   "metadata": {},
   "outputs": [],
   "source": [
    "nodes = []\n",
    "\n",
    "for i in range(2):#按照多层修改\n",
    "    values = df_tmp2.iloc[:,i].unique()\n",
    "    for value in values:\n",
    "        dic = {}\n",
    "        dic['name'] = value\n",
    "        nodes.append(dic)\n",
    "        \n",
    "nodes"
   ]
  },
  {
   "cell_type": "code",
   "execution_count": null,
   "id": "82925b9a",
   "metadata": {},
   "outputs": [],
   "source": [
    "# 定义边和流量，数据从哪里流向哪里，流量（值）是多少，循环+字典依然可以轻松搞定\n",
    "linkes = []\n",
    "\n",
    "for i in result.values:\n",
    "    dic = {}\n",
    "    dic['source'] = i[0]\n",
    "    dic['target'] = i[1]\n",
    "    dic['value'] = i[2]\n",
    "    linkes.append(dic)\n",
    "\n",
    "linkes"
   ]
  },
  {
   "cell_type": "code",
   "execution_count": null,
   "id": "e10fad3f",
   "metadata": {},
   "outputs": [],
   "source": [
    "from pyecharts.charts import Sankey\n",
    "from pyecharts import options as opts\n",
    "\n",
    "# 固定格式的绘图代码\n",
    "# from pyecharts.charts import Sankey\n",
    "# from pyecharts import options as opts\n",
    "\n",
    "pic = (\n",
    "    Sankey()\n",
    "    .add('1', #图例名称\n",
    "         nodes,    #传入节点数据\n",
    "         linkes,   #传入边和流量数据\n",
    "         #设置透明度、弯曲度、颜色\n",
    "         linestyle_opt=opts.LineStyleOpts(opacity = 0.3, curve = 0.5, color = \"source\"),\n",
    "         #标签显示位置\n",
    "         label_opts=opts.LabelOpts(position=\"top\"),\n",
    "         #节点之前的距离\n",
    "         node_gap = 30,\n",
    "    )\n",
    "    .set_global_opts(title_opts=opts.TitleOpts())\n",
    ")\n",
    "\n",
    "pic.render('test.html')"
   ]
  },
  {
   "cell_type": "code",
   "execution_count": null,
   "id": "be0bd23e",
   "metadata": {},
   "outputs": [],
   "source": [
    "from pyecharts.globals import CurrentConfig, NotebookType  \n",
    "CurrentConfig.NOTEBOOK_TYPE = NotebookType.JUPYTER_LAB\n",
    "from pyecharts import options as opts\n",
    "from pyecharts.charts import Sankey\n",
    "\n",
    "nodes = nodes\n",
    "\n",
    "links = linkes\n",
    "\n",
    "\n",
    "c = (\n",
    "    Sankey(init_opts=opts.InitOpts(height=\"4000px\",width=\"1500px\"))\n",
    "    .add(\n",
    "        \"sankey\",\n",
    "        nodes,\n",
    "        links,\n",
    "        linestyle_opt=opts.LineStyleOpts(opacity=0.5, curve=0.5, color=\"source\"),\n",
    "        label_opts=opts.LabelOpts(position=\"right\"),\n",
    "    )\n",
    "    .set_global_opts(title_opts=opts.TitleOpts(title=\"Sankey-基本示例\"))\n",
    "    .render(\"sankey_base5.html\")\n",
    ")"
   ]
  }
 ],
 "metadata": {
  "kernelspec": {
   "display_name": "Python 3 (ipykernel)",
   "language": "python",
   "name": "python3"
  },
  "language_info": {
   "codemirror_mode": {
    "name": "ipython",
    "version": 3
   },
   "file_extension": ".py",
   "mimetype": "text/x-python",
   "name": "python",
   "nbconvert_exporter": "python",
   "pygments_lexer": "ipython3",
   "version": "3.9.7"
  }
 },
 "nbformat": 4,
 "nbformat_minor": 5
}
